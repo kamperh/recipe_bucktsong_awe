{
 "cells": [
  {
   "cell_type": "markdown",
   "metadata": {},
   "source": [
    "# Sequence-to-Sequence Model with Frame-Level Discritisation"
   ]
  },
  {
   "cell_type": "markdown",
   "metadata": {},
   "source": [
    "Herman Kamper, Stellenbosch University, 2018."
   ]
  },
  {
   "cell_type": "markdown",
   "metadata": {},
   "source": [
    "## Preamble"
   ]
  },
  {
   "cell_type": "code",
   "execution_count": 4,
   "metadata": {},
   "outputs": [
    {
     "name": "stdout",
     "output_type": "stream",
     "text": [
      "The autoreload extension is already loaded. To reload it, use:\n",
      "  %reload_ext autoreload\n"
     ]
    }
   ],
   "source": [
    "%matplotlib inline\n",
    "%load_ext autoreload\n",
    "%autoreload 2\n",
    "\n",
    "from __future__ import division\n",
    "from __future__ import print_function\n",
    "from os import path\n",
    "from scipy.spatial.distance import pdist\n",
    "import matplotlib.pyplot as plt\n",
    "import numpy as np\n",
    "import sys\n",
    "import tensorflow as tf"
   ]
  },
  {
   "cell_type": "code",
   "execution_count": 3,
   "metadata": {},
   "outputs": [],
   "source": [
    "sys.path.append(path.join(\"..\", \"src\"))\n",
    "sys.path.append(path.join(\"..\", \"embeddings\"))\n",
    "\n",
    "from tflego import NP_DTYPE, TF_DTYPE, NP_ITYPE, TF_ITYPE\n",
    "import batching\n",
    "import plotting\n",
    "import samediff\n",
    "import tflego\n",
    "import training\n",
    "\n",
    "output_dir = \"/tmp/data-kamperh/\""
   ]
  },
  {
   "cell_type": "markdown",
   "metadata": {},
   "source": [
    "## Data"
   ]
  },
  {
   "cell_type": "code",
   "execution_count": 5,
   "metadata": {},
   "outputs": [
    {
     "name": "stdout",
     "output_type": "stream",
     "text": [
      "No. items: 12021\n",
      "E.g. item shape: (62, 39)\n"
     ]
    }
   ],
   "source": [
    "# Training data\n",
    "\n",
    "# NumPy archive\n",
    "npz = np.load(\n",
    "    path.join(\"..\", \"features\", \"wordpairs\", \"devpart1\",\n",
    "    \"devpart1_utd_terms.mfcc.cmvn_dd.npz\")\n",
    "    )\n",
    "\n",
    "# Data and labels\n",
    "train_x = []\n",
    "train_labels = []\n",
    "train_speakers = []\n",
    "train_lengths = []\n",
    "train_keys = []\n",
    "n_items = 0\n",
    "for utt_key in sorted(npz):\n",
    "    train_keys.append(utt_key)\n",
    "    train_x.append(npz[utt_key])\n",
    "    word = \"_\".join(utt_key.split(\"_\")[:-2])\n",
    "    speaker = utt_key.split(\"_\")[1][:3]\n",
    "    train_labels.append(word)\n",
    "    train_speakers.append(speaker)\n",
    "    train_lengths.append(npz[utt_key].shape[0])\n",
    "    n_items += 1\n",
    "print(\"No. items:\", n_items)\n",
    "print(\"E.g. item shape:\", train_x[0].shape)"
   ]
  },
  {
   "cell_type": "code",
   "execution_count": 6,
   "metadata": {},
   "outputs": [],
   "source": [
    "# Convert training speakers to integers\n",
    "train_speaker_set = set(train_speakers)\n",
    "speaker_to_id = {}\n",
    "id_to_speaker = {}\n",
    "for i, speaker in enumerate(sorted(list(train_speaker_set))):\n",
    "    speaker_to_id[speaker] = i\n",
    "    id_to_speaker[i] = speaker\n",
    "train_speaker_id = []\n",
    "for speaker in train_speakers:\n",
    "    train_speaker_id.append(speaker_to_id[speaker])\n",
    "train_speaker_id = np.array(train_speaker_id, dtype=NP_ITYPE)\n",
    "\n",
    "speaker_gender_dict = {\n",
    "    \"s01\": \"f\", \"s02\": \"f\", \"s03\": \"m\", \"s04\": \"f\", \"s05\": \"f\", \"s06\": \"m\",\n",
    "    \"s07\": \"f\", \"s08\": \"f\", \"s09\": \"f\", \"s10\": \"m\", \"s11\": \"m\", \"s12\": \"f\",\n",
    "    \"s13\": \"m\", \"s14\": \"f\", \"s15\": \"m\", \"s16\": \"f\", \"s17\": \"f\", \"s18\": \"f\",\n",
    "    \"s19\": \"m\", \"s20\": \"f\", \"s21\": \"f\", \"s22\": \"m\", \"s23\": \"m\", \"s24\": \"m\",\n",
    "    \"s25\": \"f\", \"s26\": \"f\", \"s27\": \"f\", \"s28\": \"m\", \"s29\": \"m\", \"s30\": \"m\",\n",
    "    \"s31\": \"f\", \"s32\": \"m\", \"s33\": \"m\", \"s34\": \"m\", \"s35\": \"m\", \"s36\": \"m\",\n",
    "    \"s37\": \"f\", \"s38\": \"m\", \"s39\": \"f\", \"s40\": \"m\"\n",
    "    }"
   ]
  },
  {
   "cell_type": "code",
   "execution_count": 7,
   "metadata": {},
   "outputs": [
    {
     "data": {
      "image/png": "[encoded data removed]",
      "text/plain": [
       "<Figure size 432x288 with 1 Axes>"
      ]
     },
     "metadata": {
      "needs_background": "light"
     },
     "output_type": "display_data"
    }
   ],
   "source": [
    "plt.imshow(train_x[3277].T, origin=\"bottom\");"
   ]
  },
  {
   "cell_type": "code",
   "execution_count": 8,
   "metadata": {},
   "outputs": [
    {
     "name": "stdout",
     "output_type": "stream",
     "text": [
      "No. items: 2733\n",
      "E.g. item shape: (61, 39)\n"
     ]
    }
   ],
   "source": [
    "# Validation data\n",
    "\n",
    "# NumPy archive\n",
    "npz = np.load(\n",
    "    path.join(\"..\", \"features\", \"wordpairs\", \"devpart2\",\n",
    "    \"devpart2.samediff.mfcc.cmvn_dd.npz\")\n",
    "    )\n",
    "\n",
    "# Data and labels\n",
    "val_x = []\n",
    "val_labels = []\n",
    "val_lengths = []\n",
    "val_keys = []\n",
    "n_items = 0\n",
    "for utt_key in sorted(npz):\n",
    "    val_keys.append(utt_key)\n",
    "    val_x.append(npz[utt_key])\n",
    "    word = \"_\".join(utt_key.split(\"_\")[:-2])\n",
    "    val_labels.append(word)\n",
    "    val_lengths.append(npz[utt_key].shape[0])\n",
    "    n_items += 1\n",
    "print(\"No. items:\", n_items)\n",
    "print(\"E.g. item shape:\", val_x[0].shape)"
   ]
  },
  {
   "cell_type": "code",
   "execution_count": 9,
   "metadata": {},
   "outputs": [],
   "source": [
    "# Truncate and limit dimensionality\n",
    "max_length = 100\n",
    "d_frame = 13  # None\n",
    "for i, seq in enumerate(train_x):\n",
    "    train_x[i] = train_x[i][:max_length, :d_frame]\n",
    "    train_lengths[i] = min(train_lengths[i], max_length)\n",
    "for i, seq in enumerate(val_x):\n",
    "    val_x[i] = val_x[i][:max_length, :d_frame]\n",
    "    val_lengths[i] = min(val_lengths[i], max_length)"
   ]
  },
  {
   "cell_type": "code",
   "execution_count": 10,
   "metadata": {},
   "outputs": [
    {
     "data": {
      "image/png": "[encoded data removed]",
      "text/plain": [
       "<Figure size 432x288 with 1 Axes>"
      ]
     },
     "metadata": {
      "needs_background": "light"
     },
     "output_type": "display_data"
    }
   ],
   "source": [
    "plt.imshow(train_x[3277].T, origin=\"bottom\");"
   ]
  },
  {
   "cell_type": "markdown",
   "metadata": {},
   "source": [
    "## Many-to-many sequence-to-sequence model with frame-level autoencoder"
   ]
  },
  {
   "cell_type": "code",
   "execution_count": 18,
   "metadata": {},
   "outputs": [],
   "source": [
    "from tflego import *\n",
    "\n",
    "def build_multi_many_to_many_latentfunc(x, x_lengths, enc_n_hiddens,\n",
    "        dec_n_hiddens, build_latent_func, latent_func_kwargs, rnn_type=\"lstm\",\n",
    "        keep_prob=1., add_conditioning_tensor=None, **kwargs):\n",
    "    \"\"\"\n",
    "    Multi-layer many-to-many model with a per-frame latent layer.\n",
    "\n",
    "    A linear transformation is applied to the output of the decoder such that\n",
    "    the final output dimensionality matches that of the input `x`. A generic\n",
    "    latent layer is built according to the `build_latent_func` and\n",
    "    `latent_func_kwargs` parameters.\n",
    "\n",
    "    Parameters\n",
    "    ----------\n",
    "    x : Tensor [n_data, maxlength, d_in]\n",
    "    build_latent_func : function\n",
    "        The function to build the latent layer. The function's first parameter\n",
    "        should be the input Tensor, and it should return a dictionary with an\n",
    "        element \"y\" giving the output.\n",
    "    latent_func_kargs : dict\n",
    "        Arguments to pass on to `build_latent_func`.\n",
    "    add_conditioning_tensor : Tensor [n_data, d_embedding]\n",
    "        If provided, each time step of the decoder is conditioned on the \n",
    "        concatenation of the latent representation and this tensor.\n",
    "    \"\"\"\n",
    "\n",
    "    maxlength = tf.reduce_max(x_lengths)\n",
    "    n_output = x.get_shape().as_list()[-1]\n",
    "\n",
    "    # Encoder\n",
    "    encoder_output, encoder_states = build_multi_rnn(\n",
    "        x, x_lengths, enc_n_hiddens, rnn_type, keep_prob,\n",
    "        scope=\"rnn_encoder\", **kwargs\n",
    "        )\n",
    "\n",
    "    # Latent transformation\n",
    "    encoder_output_flattened = tf.reshape(\n",
    "        encoder_output, [-1, enc_n_hiddens[-1]]\n",
    "        )\n",
    "    latent_layer = build_latent_func(\n",
    "        encoder_output_flattened, **latent_func_kwargs\n",
    "        )\n",
    "    latent_layer_output = tf.reshape(latent_layer[\"y\"], [-1, maxlength, dec_n_hiddens[0]])\n",
    "    \n",
    "    assert add_conditioning_tensor is None  # to-do (will have to use tile then concat)\n",
    "\n",
    "    # Decoder\n",
    "    decoder_output, decoder_states = build_multi_rnn(\n",
    "        latent_layer_output, x_lengths, dec_n_hiddens, rnn_type, keep_prob,\n",
    "        scope=\"rnn_decoder\", **kwargs\n",
    "        )\n",
    "    mask = tf.sign(tf.reduce_max(tf.abs(decoder_output), 2))\n",
    "\n",
    "    # Final linear layer\n",
    "    with tf.variable_scope(\"rnn_decoder/linear_output\"):\n",
    "        decoder_output = tf.reshape(decoder_output, [-1, dec_n_hiddens[-1]])\n",
    "        decoder_output = build_linear(decoder_output, n_output)\n",
    "        decoder_output = tf.reshape(decoder_output, [-1, maxlength, n_output])\n",
    "        decoder_output *= tf.expand_dims(mask, -1)\n",
    "\n",
    "    return {\n",
    "        \"encoder_output\": encoder_output, \"latent_layer\": latent_layer, \n",
    "        \"decoder_output\": decoder_output, \"mask\": mask, \"maxlength\": maxlength\n",
    "        }"
   ]
  },
  {
   "cell_type": "code",
   "execution_count": 35,
   "metadata": {},
   "outputs": [],
   "source": [
    "tf.reset_default_graph()\n",
    "\n",
    "# Training parameters\n",
    "learning_rate = 0.001\n",
    "n_epochs = 20  # 100\n",
    "n_val_interval = 1\n",
    "batch_size = 300\n",
    "n_buckets = 3\n",
    "\n",
    "# Model parameters\n",
    "n_input = d_frame\n",
    "n_speakers = max(speaker_to_id.values()) + 1\n",
    "# d_speaker_embedding = 50\n",
    "enc_n_hiddens = [10]\n",
    "dec_n_hiddens = [10]\n",
    "# dec_n_hiddens = [400 + d_speaker_embedding, 400, 400]\n",
    "build_latent_func = tflego.build_autoencoder\n",
    "latent_func_kwargs = {\n",
    "    \"enc_n_hiddens\": [],\n",
    "    \"n_z\": 130, # 130,\n",
    "    \"dec_n_hiddens\": [dec_n_hiddens[0]],\n",
    "    \"activation\": tf.nn.relu\n",
    "    }\n",
    "rnn_type = \"gru\"  # \"lstm\", \"gru\" or \"rnn\"\n",
    "intermediate_model_fn = path.join(output_dir, \"many_to_many_ae.tmp.ckpt\")\n",
    "model_fn = path.join(output_dir, \"many_to_many_ae.ckpt\")\n",
    "\n",
    "# Model\n",
    "\n",
    "x = tf.placeholder(TF_DTYPE, [None, None, n_input])\n",
    "x_lengths = tf.placeholder(TF_ITYPE, [None])\n",
    "# speaker_id = tf.placeholder(TF_ITYPE, [None])\n",
    "\n",
    "# with tf.variable_scope(\"speaker_embedding\"):\n",
    "#     speaker_embedding = tf.get_variable(\n",
    "#             \"E\", [n_speakers, d_speaker_embedding], dtype=TF_DTYPE,\n",
    "#             initializer=tf.contrib.layers.xavier_initializer()\n",
    "#             )\n",
    "#     embedding_lookup = tf.nn.embedding_lookup(speaker_embedding, speaker_id)\n",
    "\n",
    "network_dict = build_multi_many_to_many_latentfunc(\n",
    "    x, x_lengths, enc_n_hiddens, dec_n_hiddens, build_latent_func,\n",
    "    latent_func_kwargs, rnn_type=rnn_type,\n",
    "#     add_conditioning_tensor=embedding_lookup\n",
    "    )\n",
    "encoder_output = network_dict[\"encoder_output\"]\n",
    "maxlength = network_dict[\"maxlength\"]\n",
    "ae = network_dict[\"latent_layer\"]\n",
    "z = tf.reshape(ae[\"z\"], [-1, maxlength, latent_func_kwargs[\"n_z\"]])\n",
    "decoder_output = network_dict[\"decoder_output\"]\n",
    "mask = network_dict[\"mask\"]\n",
    "\n",
    "decoder_output *= tf.expand_dims(mask, -1)  # safety\n",
    "\n",
    "# Reconstruction loss\n",
    "loss = tf.reduce_mean(\n",
    "    tf.reduce_sum(tf.reduce_mean(tf.square(x - decoder_output), -1), -1) /\n",
    "    tf.reduce_sum(mask, 1)\n",
    "    )  # https://danijar.com/variable-sequence-lengths-in-tensorflow/\n",
    "\n",
    "optimiser = tf.train.AdamOptimizer(learning_rate=learning_rate).minimize(loss)"
   ]
  },
  {
   "cell_type": "code",
   "execution_count": 36,
   "metadata": {},
   "outputs": [
    {
     "name": "stdout",
     "output_type": "stream",
     "text": [
      "2018-12-10 15:37:26.900342\n",
      "Epoch 0:\n",
      "5.591 sec, train loss: 1.3679999, val loss: 1.2095138 *\n",
      "Epoch 1:\n",
      "5.077 sec, train loss: 1.0229568, val loss: 1.0016029 *\n",
      "Epoch 2:\n",
      "5.122 sec, train loss: 0.8657509, val loss: 0.88121444 *\n",
      "Epoch 3:\n",
      "5.428 sec, train loss: 0.7759287, val loss: 0.8078553 *\n",
      "Epoch 4:\n",
      "5.108 sec, train loss: 0.7174857, val loss: 0.75648534 *\n",
      "Epoch 5:\n",
      "5.101 sec, train loss: 0.676386, val loss: 0.7188575 *\n",
      "Epoch 6:\n",
      "5.081 sec, train loss: 0.6447702, val loss: 0.6885063 *\n",
      "Epoch 7:\n",
      "5.099 sec, train loss: 0.61820847, val loss: 0.6620794 *\n",
      "Epoch 8:\n",
      "5.110 sec, train loss: 0.5940751, val loss: 0.6374878 *\n",
      "Epoch 9:\n",
      "5.279 sec, train loss: 0.56833744, val loss: 0.60729563 *\n",
      "Epoch 10:\n",
      "5.401 sec, train loss: 0.536568, val loss: 0.5729854 *\n",
      "Epoch 11:\n",
      "5.133 sec, train loss: 0.5102635, val loss: 0.54967815 *\n",
      "Epoch 12:\n",
      "5.102 sec, train loss: 0.49029416, val loss: 0.53061473 *\n",
      "Epoch 13:\n",
      "5.125 sec, train loss: 0.47363815, val loss: 0.51448655 *\n",
      "Epoch 14:\n",
      "5.085 sec, train loss: 0.4591958, val loss: 0.500916 *\n",
      "Epoch 15:\n",
      "5.145 sec, train loss: 0.44695187, val loss: 0.48952135 *\n",
      "Epoch 16:\n",
      "5.144 sec, train loss: 0.43643484, val loss: 0.47995678 *\n",
      "Epoch 17:\n",
      "5.120 sec, train loss: 0.42740765, val loss: 0.47191128 *\n",
      "Epoch 18:\n",
      "5.301 sec, train loss: 0.41951004, val loss: 0.4650332 *\n",
      "Epoch 19:\n",
      "5.256 sec, train loss: 0.41254702, val loss: 0.45900905 *\n",
      "Training time: 1.730 min\n",
      "2018-12-10 15:39:12.958236\n"
     ]
    }
   ],
   "source": [
    "np.random.seed(1)\n",
    "train_batch_iterator = batching.SimpleBucketIterator(\n",
    "    train_x, batch_size, n_buckets, True\n",
    "    )\n",
    "val_batch_iterator = batching.SimpleBucketIterator(\n",
    "    val_x, batch_size, n_buckets, False\n",
    "    )\n",
    "\n",
    "record_dict = training.train_fixed_epochs(\n",
    "    n_epochs, optimiser, loss, train_batch_iterator,\n",
    "    [x, x_lengths], loss, val_batch_iterator, save_best_val_model_fn=model_fn\n",
    "    )"
   ]
  },
  {
   "cell_type": "code",
   "execution_count": 39,
   "metadata": {},
   "outputs": [
    {
     "name": "stdout",
     "output_type": "stream",
     "text": [
      "INFO:tensorflow:Restoring parameters from /tmp/data-kamperh/many_to_many_ae.ckpt\n"
     ]
    }
   ],
   "source": [
    "# Embed validation\n",
    "val_batch_iterator = batching.SimpleIterator(\n",
    "    val_x, len(val_x), False\n",
    "    )\n",
    "labels = [val_labels[i] for i in val_batch_iterator.indices]\n",
    "saver = tf.train.Saver()\n",
    "with tf.Session() as session:\n",
    "    saver.restore(session, model_fn)\n",
    "    for batch_x_padded, batch_x_lengths in val_batch_iterator:\n",
    "        np_x = batch_x_padded\n",
    "        np_x_lengths = batch_x_lengths\n",
    "        np_z = session.run(\n",
    "            [z], feed_dict={x: np_x, x_lengths: np_x_lengths}\n",
    "            )[0]\n",
    "        np_y = session.run(\n",
    "            [decoder_output], feed_dict={x: np_x, x_lengths: np_x_lengths}\n",
    "            )[0]\n",
    "        break  # single batch"
   ]
  },
  {
   "cell_type": "code",
   "execution_count": 40,
   "metadata": {},
   "outputs": [
    {
     "data": {
      "image/png": "[encoded data removed]",
      "text/plain": [
       "<Figure size 864x576 with 10 Axes>"
      ]
     },
     "metadata": {
      "needs_background": "light"
     },
     "output_type": "display_data"
    }
   ],
   "source": [
    "# Plot reconstruction\n",
    "plt.figure(figsize=(12, 8))\n",
    "for i in range(5):\n",
    "    plt.subplot(5, 2, 2*i + 1)\n",
    "    if i == 0:\n",
    "        plt.title(\"Input\")\n",
    "    plt.imshow(np_x[i][:np_x_lengths[i]].T)\n",
    "    plt.axis(\"off\")\n",
    "    plt.subplot(5, 2, 2*i + 2)\n",
    "    if i == 0:\n",
    "        plt.title(\"Reconstruction\")\n",
    "    plt.imshow(np_y[i][:np_x_lengths[i]].T)\n",
    "    plt.axis(\"off\")"
   ]
  },
  {
   "cell_type": "code",
   "execution_count": null,
   "metadata": {},
   "outputs": [],
   "source": []
  }
 ],
 "metadata": {
  "kernelspec": {
   "display_name": "Python 2",
   "language": "python",
   "name": "python2"
  },
  "language_info": {
   "codemirror_mode": {
    "name": "ipython",
    "version": 2
   },
   "file_extension": ".py",
   "mimetype": "text/x-python",
   "name": "python",
   "nbconvert_exporter": "python",
   "pygments_lexer": "ipython2",
   "version": "2.7.12"
  }
 },
 "nbformat": 4,
 "nbformat_minor": 2
}
