{
 "cells": [
  {
   "cell_type": "markdown",
   "metadata": {},
   "source": [
    "# Correspondence Autoencoder Sequence-to-Sequence Model for Speech"
   ]
  },
  {
   "cell_type": "markdown",
   "metadata": {},
   "source": [
    "Herman Kamper, Stellenbosch University, 2018."
   ]
  },
  {
   "cell_type": "markdown",
   "metadata": {},
   "source": [
    "## Preamble"
   ]
  },
  {
   "cell_type": "code",
   "execution_count": 1,
   "metadata": {},
   "outputs": [],
   "source": [
    "%matplotlib inline\n",
    "%load_ext autoreload\n",
    "%autoreload 2\n",
    "\n",
    "from __future__ import division\n",
    "from __future__ import print_function\n",
    "from os import path\n",
    "from scipy.spatial.distance import pdist\n",
    "import matplotlib.pyplot as plt\n",
    "import numpy as np\n",
    "import sys\n",
    "import tensorflow as tf"
   ]
  },
  {
   "cell_type": "code",
   "execution_count": 2,
   "metadata": {},
   "outputs": [],
   "source": [
    "sys.path.append(path.join(\"..\", \"src\"))\n",
    "\n",
    "import plotting\n",
    "import samediff\n",
    "import tflego\n",
    "import training\n",
    "\n",
    "from tflego import NP_DTYPE, TF_DTYPE, NP_ITYPE, TF_ITYPE\n",
    "\n",
    "output_dir = \"/tmp/data-kamperh/\""
   ]
  },
  {
   "cell_type": "markdown",
   "metadata": {},
   "source": [
    "## Utility functions and classes\n"
   ]
  },
  {
   "cell_type": "code",
   "execution_count": 3,
   "metadata": {},
   "outputs": [],
   "source": [
    "class SimpleIterator(object):\n",
    "    \n",
    "    def __init__(self, x_list, batch_size, shuffle_every_epoch=False):\n",
    "        self.x_list = x_list\n",
    "        self.batch_size = batch_size\n",
    "        self.shuffle_every_epoch = shuffle_every_epoch\n",
    "        self.n_input = self.x_list[0].shape[-1]\n",
    "        self.x_lengths = np.array([i.shape[0] for i in x_list])\n",
    "        self.n_batches = int(len(self.x_lengths)/batch_size)\n",
    "        self.indices = np.arange(len(self.x_lengths))\n",
    "        np.random.shuffle(self.indices)\n",
    "    \n",
    "    def __iter__(self):\n",
    "\n",
    "        if self.shuffle_every_epoch:\n",
    "            np.random.shuffle(self.indices)\n",
    "        \n",
    "        for i_batch in xrange(self.n_batches):\n",
    "\n",
    "            batch_indices = self.indices[\n",
    "                i_batch*self.batch_size:(i_batch + 1)*self.batch_size\n",
    "                ]\n",
    "            \n",
    "            batch_x_lengths = self.x_lengths[batch_indices]\n",
    "\n",
    "            # Pad to maximum length in batch\n",
    "            batch_x_padded = np.zeros(\n",
    "                (len(batch_indices), np.max(batch_x_lengths), self.n_input),\n",
    "                 dtype=NP_DTYPE\n",
    "                )\n",
    "            for i, length in enumerate(batch_x_lengths):\n",
    "                seq = self.x_list[batch_indices[i]]\n",
    "                batch_x_padded[i, :length, :] = seq\n",
    "\n",
    "            yield (batch_x_padded, batch_x_lengths)"
   ]
  },
  {
   "cell_type": "code",
   "execution_count": 4,
   "metadata": {},
   "outputs": [],
   "source": [
    "class SimpleBucketIterator(object):\n",
    "    \n",
    "    def __init__(self, x_list, batch_size, n_buckets, shuffle_every_epoch=False):\n",
    "        self.x_list = x_list\n",
    "        self.batch_size = batch_size\n",
    "        self.shuffle_every_epoch = shuffle_every_epoch\n",
    "        self.n_input = self.x_list[0].shape[-1]\n",
    "        self.x_lengths = np.array([i.shape[0] for i in x_list])\n",
    "        self.n_batches = int(len(self.x_lengths)/batch_size)\n",
    "        \n",
    "        # Set up bucketing\n",
    "        self.n_buckets = n_buckets\n",
    "        sorted_indices = np.argsort([len(i) for i in x_list])\n",
    "        bucket_size = int(len(self.x_lengths)/self.n_buckets)\n",
    "        self.buckets = []\n",
    "        for i_bucket in xrange(n_buckets):\n",
    "            self.buckets.append(\n",
    "                sorted_indices[i_bucket*bucket_size:(i_bucket + 1)*bucket_size]\n",
    "                )\n",
    "        self.shuffle()\n",
    "            \n",
    "    def shuffle(self):\n",
    "        for i_bucket in xrange(self.n_buckets):\n",
    "            np.random.shuffle(self.buckets[i_bucket])\n",
    "        self.indices = np.concatenate(self.buckets)\n",
    "    \n",
    "    def __iter__(self):\n",
    "\n",
    "        if self.shuffle_every_epoch:\n",
    "            self.shuffle()\n",
    "        \n",
    "        for i_batch in xrange(self.n_batches):\n",
    "\n",
    "            batch_indices = self.indices[\n",
    "                i_batch*self.batch_size:(i_batch + 1)*self.batch_size\n",
    "                ]\n",
    "            \n",
    "            batch_x_lengths = self.x_lengths[batch_indices]\n",
    "\n",
    "            # Pad to maximum length in batch\n",
    "            batch_x_padded = np.zeros(\n",
    "                (len(batch_indices), np.max(batch_x_lengths), self.n_input),\n",
    "                 dtype=NP_DTYPE\n",
    "                )\n",
    "            for i, length in enumerate(batch_x_lengths):\n",
    "                seq = self.x_list[batch_indices[i]]\n",
    "                batch_x_padded[i, :length, :] = seq\n",
    "\n",
    "            yield (batch_x_padded, batch_x_lengths)"
   ]
  },
  {
   "cell_type": "code",
   "execution_count": 5,
   "metadata": {},
   "outputs": [],
   "source": [
    "def get_pair_list(labels):\n",
    "    \"\"\"Return a list of tuples giving indices of matching types.\"\"\"\n",
    "    N = len(labels)\n",
    "    match_list = []\n",
    "    for n in range(N - 1):\n",
    "        cur_label = labels[n]\n",
    "        for cur_match_i in n + 1 + np.where(np.asarray(labels[n + 1:]) == cur_label)[0]:\n",
    "            match_list.append((n, cur_match_i))\n",
    "            match_list.append((cur_match_i, n))\n",
    "    return match_list\n",
    "\n",
    "\n",
    "class PairedSimpleIterator(object):\n",
    "    \n",
    "    def __init__(self, x_list, pair_list, batch_size, shuffle_every_epoch=False):\n",
    "        self.x_list = x_list\n",
    "        self.batch_size = batch_size\n",
    "        self.shuffle_every_epoch = shuffle_every_epoch\n",
    "        self.n_input = self.x_list[0].shape[-1]\n",
    "        self.x_lengths = np.array([i.shape[0] for i in x_list])\n",
    "        self.n_batches = int(len(self.x_lengths)/batch_size)\n",
    "        self.pair_list = pair_list\n",
    "#         self.indices = np.arange(len(self.pair_list))\n",
    "        np.random.shuffle(self.pair_list)\n",
    "    \n",
    "    def __iter__(self):\n",
    "\n",
    "        if self.shuffle_every_epoch:\n",
    "            np.random.shuffle(self.pair_list)\n",
    "        \n",
    "        for i_batch in xrange(self.n_batches):\n",
    "\n",
    "            batch_indices_a = [i for i, j in self.pair_list[i_batch*self.batch_size:(i_batch + 1)*self.batch_size]]\n",
    "            batch_indices_b = [j for i, j in self.pair_list[i_batch*self.batch_size:(i_batch + 1)*self.batch_size]]\n",
    "            \n",
    "#             print(batch_indices_a, batch_indices_b)\n",
    "            \n",
    "            batch_lengths_a = self.x_lengths[batch_indices_a]\n",
    "            batch_lengths_b = self.x_lengths[batch_indices_b]\n",
    "            \n",
    "            n_pad = max(np.max(batch_lengths_a), np.max(batch_lengths_b))\n",
    "            \n",
    "            # Pad to maximum length in batch            \n",
    "            batch_padded_a = np.zeros((len(batch_indices_a), n_pad, self.n_input), dtype=NP_DTYPE)\n",
    "            batch_padded_b = np.zeros((len(batch_indices_b), n_pad, self.n_input), dtype=NP_DTYPE)\n",
    "            for i, length in enumerate(batch_lengths_a):\n",
    "                seq = self.x_list[batch_indices_a[i]]\n",
    "                batch_padded_a[i, :length, :] = seq\n",
    "            for i, length in enumerate(batch_lengths_b):\n",
    "                seq = self.x_list[batch_indices_b[i]]\n",
    "                batch_padded_b[i, :length, :] = seq\n",
    "            \n",
    "            yield (batch_padded_a, batch_lengths_a, batch_padded_b, batch_lengths_b)\n"
   ]
  },
  {
   "cell_type": "code",
   "execution_count": 6,
   "metadata": {},
   "outputs": [],
   "source": [
    "class PairedBucketIterator(object):\n",
    "    \n",
    "    def __init__(self, x_list, pair_list, batch_size, n_buckets, shuffle_every_epoch=False):\n",
    "        self.x_list = x_list\n",
    "        self.batch_size = batch_size\n",
    "        self.shuffle_every_epoch = shuffle_every_epoch\n",
    "        self.n_input = self.x_list[0].shape[-1]\n",
    "        self.x_lengths = np.array([i.shape[0] for i in x_list])\n",
    "        self.n_batches = int(len(self.x_lengths)/batch_size)\n",
    "        self.pair_list = pair_list\n",
    "        \n",
    "        # Set up bucketing\n",
    "        self.n_buckets = n_buckets\n",
    "        sorted_indices = np.argsort([max(len(x_list[i]), len(x_list[j])) for i, j in pair_list])\n",
    "#         print(\"lengths:\", [len(i) for i in x_list])\n",
    "        bucket_size = int(len(self.x_lengths)/self.n_buckets)\n",
    "        self.buckets = []\n",
    "        for i_bucket in xrange(n_buckets):\n",
    "            self.buckets.append(\n",
    "                sorted_indices[i_bucket*bucket_size:(i_bucket + 1)*bucket_size]\n",
    "                )\n",
    "        self.shuffle()\n",
    "\n",
    "    def shuffle(self):\n",
    "        for i_bucket in xrange(self.n_buckets):\n",
    "            np.random.shuffle(self.buckets[i_bucket])\n",
    "        self.indices = np.concatenate(self.buckets)\n",
    "\n",
    "#         print([max(len(x_list[i]), len(x_list[j])) for i, j in pair_list])\n",
    "#         print(sorted_indices)\n",
    "#         return\n",
    "        \n",
    "        \n",
    "#         self.indices = np.arange(len(self.pair_list))\n",
    "#         np.random.shuffle(self.pair_list)\n",
    "    \n",
    "    def __iter__(self):\n",
    "\n",
    "        if self.shuffle_every_epoch:\n",
    "            self.shuffle()\n",
    "        \n",
    "        for i_batch in xrange(self.n_batches):\n",
    "            \n",
    "            batch_pair_list = [\n",
    "                self.pair_list[i] for i in self.indices[\n",
    "                i_batch*self.batch_size:(i_batch + 1)*self.batch_size]\n",
    "                ]\n",
    "#             print(\"batch_pair_list\", batch_pair_list)\n",
    "\n",
    "            batch_indices_a = [i for i, j in batch_pair_list]\n",
    "            batch_indices_b = [j for i, j in batch_pair_list]\n",
    "            \n",
    "#             print(batch_indices_a, batch_indices_b)\n",
    "            \n",
    "            batch_lengths_a = self.x_lengths[batch_indices_a]\n",
    "            batch_lengths_b = self.x_lengths[batch_indices_b]\n",
    "            \n",
    "            n_pad = max(np.max(batch_lengths_a), np.max(batch_lengths_b))\n",
    "            \n",
    "            # Pad to maximum length in batch            \n",
    "            batch_padded_a = np.zeros((len(batch_indices_a), n_pad, self.n_input), dtype=NP_DTYPE)\n",
    "            batch_padded_b = np.zeros((len(batch_indices_b), n_pad, self.n_input), dtype=NP_DTYPE)\n",
    "            for i, length in enumerate(batch_lengths_a):\n",
    "                seq = self.x_list[batch_indices_a[i]]\n",
    "                batch_padded_a[i, :length, :] = seq\n",
    "            for i, length in enumerate(batch_lengths_b):\n",
    "                seq = self.x_list[batch_indices_b[i]]\n",
    "                batch_padded_b[i, :length, :] = seq\n",
    "            \n",
    "            yield (batch_padded_a, batch_lengths_a, batch_padded_b, batch_lengths_b)"
   ]
  },
  {
   "cell_type": "code",
   "execution_count": 7,
   "metadata": {},
   "outputs": [
    {
     "name": "stdout",
     "output_type": "stream",
     "text": [
      "No. items: 12021\n",
      "E.g. item shape: (62, 39)\n"
     ]
    }
   ],
   "source": [
    "# Training data\n",
    "\n",
    "# NumPy archive\n",
    "npz = np.load(\n",
    "    path.join(\"..\", \"features\", \"wordpairs\", \"devpart1\",\n",
    "    \"devpart1_utd_terms.mfcc.cmvn_dd.npz\")\n",
    "    )\n",
    "\n",
    "# Data and labels\n",
    "train_x = []\n",
    "train_labels = []\n",
    "train_lengths = []\n",
    "train_keys = []\n",
    "n_items = 0\n",
    "for utt_key in sorted(npz):\n",
    "    train_keys.append(utt_key)\n",
    "    train_x.append(npz[utt_key])\n",
    "    word = \"_\".join(utt_key.split(\"_\")[:-2])\n",
    "    train_labels.append(word)\n",
    "    train_lengths.append(npz[utt_key].shape[0])\n",
    "    n_items += 1\n",
    "print(\"No. items:\", n_items)\n",
    "print(\"E.g. item shape:\", train_x[0].shape)"
   ]
  },
  {
   "cell_type": "code",
   "execution_count": 8,
   "metadata": {},
   "outputs": [
    {
     "data": {
      "image/png": "[encoded data removed]",
      "text/plain": [
       "<matplotlib.figure.Figure at 0x7fedec068750>"
      ]
     },
     "metadata": {},
     "output_type": "display_data"
    }
   ],
   "source": [
    "plt.imshow(train_x[3277].T, origin=\"bottom\");"
   ]
  },
  {
   "cell_type": "code",
   "execution_count": 9,
   "metadata": {},
   "outputs": [
    {
     "name": "stdout",
     "output_type": "stream",
     "text": [
      "No. items: 2733\n",
      "E.g. item shape: (61, 39)\n"
     ]
    }
   ],
   "source": [
    "# Development data\n",
    "\n",
    "# NumPy archive\n",
    "npz = np.load(\n",
    "    path.join(\"..\", \"features\", \"wordpairs\", \"devpart2\",\n",
    "    \"devpart2.samediff.mfcc.cmvn_dd.npz\")\n",
    "    )\n",
    "\n",
    "# Data and labels\n",
    "val_x = []\n",
    "val_labels = []\n",
    "val_lengths = []\n",
    "val_keys = []\n",
    "n_items = 0\n",
    "for utt_key in sorted(npz):\n",
    "    val_keys.append(utt_key)\n",
    "    val_x.append(npz[utt_key])\n",
    "    word = \"_\".join(utt_key.split(\"_\")[:-2])\n",
    "    val_labels.append(word)\n",
    "    val_lengths.append(npz[utt_key].shape[0])\n",
    "    n_items += 1\n",
    "print(\"No. items:\", n_items)\n",
    "print(\"E.g. item shape:\", val_x[0].shape)"
   ]
  },
  {
   "cell_type": "code",
   "execution_count": 10,
   "metadata": {},
   "outputs": [],
   "source": [
    "# Truncate and limit dimensionality\n",
    "max_length = 100\n",
    "d_frame = 13  # None\n",
    "for i, seq in enumerate(train_x):\n",
    "    train_x[i] = train_x[i][:max_length, :d_frame]\n",
    "    train_lengths[i] = min(train_lengths[i], max_length)\n",
    "for i, seq in enumerate(val_x):\n",
    "    val_x[i] = val_x[i][:max_length, :d_frame]\n",
    "    val_lengths[i] = min(val_lengths[i], max_length)"
   ]
  },
  {
   "cell_type": "code",
   "execution_count": 11,
   "metadata": {},
   "outputs": [
    {
     "data": {
      "image/png": "[encoded data removed]",
      "text/plain": [
       "<matplotlib.figure.Figure at 0x7fede9849f10>"
      ]
     },
     "metadata": {},
     "output_type": "display_data"
    }
   ],
   "source": [
    "plt.imshow(train_x[3277].T, origin=\"bottom\");"
   ]
  },
  {
   "cell_type": "markdown",
   "metadata": {},
   "source": [
    "## Multi-layer sequence-to-sequence model with latent CAE representation"
   ]
  },
  {
   "cell_type": "code",
   "execution_count": 12,
   "metadata": {},
   "outputs": [],
   "source": [
    "# Autoencoder pretraining\n",
    "\n",
    "tf.reset_default_graph()\n",
    "\n",
    "# Training parameters\n",
    "learning_rate = 0.001\n",
    "n_epochs = 100  # 100\n",
    "n_val_interval = 1\n",
    "batch_size = 300\n",
    "n_buckets = 3\n",
    "pair_list = get_pair_list(train_labels)\n",
    "\n",
    "# Model parameters\n",
    "n_input = d_frame\n",
    "enc_n_hiddens = [400, 400, 400]\n",
    "dec_n_hiddens = [400, 400, 400]\n",
    "build_latent_func = tflego.build_autoencoder\n",
    "latent_func_kwargs = {\n",
    "    \"enc_n_hiddens\": [],\n",
    "    \"n_z\": 130, # 130,\n",
    "    \"dec_n_hiddens\": [dec_n_hiddens[0]],\n",
    "    \"activation\": tf.nn.relu\n",
    "    }\n",
    "rnn_type = \"gru\"  # \"lstm\", \"gru\" or \"rnn\"\n",
    "pretrain_intermediate_model_fn = path.join(output_dir, \"multi_lazydynamic_latent_cae.pretrain.tmp.ckpt\")\n",
    "pretrain_model_fn = path.join(output_dir, \"multi_lazydynamic_latent_cae.pretrain.ckpt\")\n",
    "intermediate_model_fn = path.join(output_dir, \"multi_lazydynamic_latent_cae.tmp.ckpt\")\n",
    "model_fn = path.join(output_dir, \"multi_lazydynamic_latent_cae.ckpt\")\n",
    "\n",
    "# Model\n",
    "a = tf.placeholder(TF_DTYPE, [None, None, n_input])\n",
    "a_lengths = tf.placeholder(TF_ITYPE, [None])\n",
    "b = tf.placeholder(TF_DTYPE, [None, None, n_input])\n",
    "b_lengths = tf.placeholder(TF_ITYPE, [None])\n",
    "network_dict = tflego.build_multi_encdec_lazydynamic_latentfunc(\n",
    "    a, a_lengths, enc_n_hiddens, dec_n_hiddens, build_latent_func,\n",
    "    latent_func_kwargs, y_lengths=b_lengths, rnn_type=rnn_type\n",
    "    )\n",
    "encoder_states = network_dict[\"encoder_states\"]\n",
    "ae = network_dict[\"latent_layer\"]\n",
    "z = ae[\"z\"]\n",
    "y = network_dict[\"decoder_output\"]\n",
    "mask = network_dict[\"mask\"]\n",
    "\n",
    "y *= tf.expand_dims(mask, -1)  # safety\n",
    "\n",
    "# Reconstruction loss\n",
    "loss = tf.reduce_mean(\n",
    "    tf.reduce_sum(tf.reduce_mean(tf.square(b - y), -1), -1) /\n",
    "    tf.reduce_sum(mask, 1)\n",
    "    )  # https://danijar.com/variable-sequence-lengths-in-tensorflow/\n",
    "\n",
    "optimizer = tf.train.AdamOptimizer(learning_rate=learning_rate).minimize(loss)"
   ]
  },
  {
   "cell_type": "code",
   "execution_count": 13,
   "metadata": {},
   "outputs": [],
   "source": [
    "def samediff_val():\n",
    "    # Embed validation\n",
    "    np.random.seed(1)\n",
    "    val_batch_iterator = SimpleIterator(\n",
    "        val_x, len(val_x), False\n",
    "        )\n",
    "    labels = [val_labels[i] for i in val_batch_iterator.indices]\n",
    "    saver = tf.train.Saver()\n",
    "    with tf.Session() as session:\n",
    "        saver.restore(session, val_model_fn)\n",
    "        for batch_x_padded, batch_x_lengths in val_batch_iterator:\n",
    "            np_x = batch_x_padded\n",
    "            np_x_lengths = batch_x_lengths\n",
    "            np_z = session.run(\n",
    "                [z], feed_dict={a: np_x, a_lengths: np_x_lengths}\n",
    "                )[0]\n",
    "#             np_y = session.run(\n",
    "#                 [y], feed_dict={a: np_x, a_lengths: np_x_lengths, b_lengths: np_x_lengths}\n",
    "#                 )[0]\n",
    "            break  # single batch\n",
    "\n",
    "    embed_dict = {}\n",
    "    for i, utt_key in enumerate([val_keys[i] for i in val_batch_iterator.indices]):\n",
    "        embed_dict[utt_key] = np_z[i]\n",
    "\n",
    "#     np_z_normalised = (np_z - np_z.mean(axis=0))/np_z.std(axis=0)\n",
    "#     distances = pdist(np_z_normalised, metric=\"cosine\")\n",
    "#     matches = samediff.generate_matches_array(labels)\n",
    "#     ap, prb = samediff.average_precision(\n",
    "#         distances[matches == True], distances[matches == False]\n",
    "#         )\n",
    "        \n",
    "    # Same-different\n",
    "    distances = pdist(np_z, metric=\"cosine\")\n",
    "    matches = samediff.generate_matches_array(labels)\n",
    "    ap, prb = samediff.average_precision(\n",
    "        distances[matches == True], distances[matches == False]\n",
    "        )    \n",
    "    return [prb, -ap]"
   ]
  },
  {
   "cell_type": "code",
   "execution_count": 1,
   "metadata": {},
   "outputs": [
    {
     "ename": "NameError",
     "evalue": "name 'np' is not defined",
     "output_type": "error",
     "traceback": [
      "\u001b[0;31m---------------------------------------------------------------------------\u001b[0m",
      "\u001b[0;31mNameError\u001b[0m                                 Traceback (most recent call last)",
      "\u001b[0;32m<ipython-input-1-8dd86d4741d3>\u001b[0m in \u001b[0;36m<module>\u001b[0;34m()\u001b[0m\n\u001b[1;32m      1\u001b[0m \u001b[0;31m# Autoencoder pretraining\u001b[0m\u001b[0;34m\u001b[0m\u001b[0;34m\u001b[0m\u001b[0m\n\u001b[0;32m----> 2\u001b[0;31m \u001b[0mnp\u001b[0m\u001b[0;34m.\u001b[0m\u001b[0mrandom\u001b[0m\u001b[0;34m.\u001b[0m\u001b[0mseed\u001b[0m\u001b[0;34m(\u001b[0m\u001b[0;36m1\u001b[0m\u001b[0;34m)\u001b[0m\u001b[0;34m\u001b[0m\u001b[0m\n\u001b[0m\u001b[1;32m      3\u001b[0m \u001b[0;34m\u001b[0m\u001b[0m\n\u001b[1;32m      4\u001b[0m \u001b[0;31m# train_batch_iterator = PairedSimpleIterator(\u001b[0m\u001b[0;34m\u001b[0m\u001b[0;34m\u001b[0m\u001b[0m\n\u001b[1;32m      5\u001b[0m \u001b[0;31m#     train_x, pair_list, batch_size, True\u001b[0m\u001b[0;34m\u001b[0m\u001b[0;34m\u001b[0m\u001b[0m\n",
      "\u001b[0;31mNameError\u001b[0m: name 'np' is not defined"
     ]
    }
   ],
   "source": [
    "# Autoencoder pretraining\n",
    "np.random.seed(1)\n",
    "\n",
    "# train_batch_iterator = PairedSimpleIterator(\n",
    "#     train_x, pair_list, batch_size, True\n",
    "#     )\n",
    "train_batch_iterator = PairedBucketIterator(\n",
    "    train_x, [(i, i) for i in xrange(len(train_x))], batch_size, n_buckets, True\n",
    "    )\n",
    "\n",
    "val_model_fn = pretrain_intermediate_model_fn\n",
    "record_dict = training.train_fixed_epochs_external_val(\n",
    "    n_epochs, optimizer, loss, train_batch_iterator,\n",
    "    [a, a_lengths, b, b_lengths], samediff_val, save_model_fn=pretrain_intermediate_model_fn, save_best_val_model_fn=pretrain_model_fn,\n",
    "    n_val_interval=n_val_interval\n",
    "    )"
   ]
  },
  {
   "cell_type": "code",
   "execution_count": 15,
   "metadata": {},
   "outputs": [],
   "source": [
    "# CAE training\n",
    "\n",
    "# tf.reset_default_graph()\n",
    "\n",
    "# Training parameters\n",
    "learning_rate = 0.001\n",
    "n_epochs = 10 # 100\n",
    "n_val_interval = 1\n",
    "batch_size = 300\n",
    "n_buckets = 3\n",
    "pair_list = get_pair_list(train_labels)\n",
    "\n",
    "# # Model parameters\n",
    "# n_input = d_frame\n",
    "# enc_n_hiddens = [400, 400, 400] # 150\n",
    "# dec_n_hiddens = [400, 400, 400]\n",
    "# build_latent_func = tflego.build_autoencoder\n",
    "# latent_func_kwargs = {\n",
    "#     \"enc_n_hiddens\": [],\n",
    "#     \"n_z\": 130, # 130,\n",
    "#     \"dec_n_hiddens\": [dec_n_hiddens[0]],\n",
    "#     \"activation\": tf.nn.relu\n",
    "#     }\n",
    "# rnn_type = \"gru\"  # \"lstm\", \"gru\" or \"rnn\"\n",
    "# pretrain_intermediate_model_fn = path.join(output_dir, \"multi_lazydynamic_latent_cae.pretrain.tmp.ckpt\")\n",
    "# pretrain_model_fn = path.join(output_dir, \"multi_lazydynamic_latent_cae.pretrain.ckpt\")\n",
    "# intermediate_model_fn = path.join(output_dir, \"multi_lazydynamic_latent_cae.tmp.ckpt\")\n",
    "# model_fn = path.join(output_dir, \"multi_lazydynamic_latent_cae.ckpt\")\n",
    "\n",
    "# # Model\n",
    "# a = tf.placeholder(TF_DTYPE, [None, None, n_input])\n",
    "# a_lengths = tf.placeholder(TF_ITYPE, [None])\n",
    "# b = tf.placeholder(TF_DTYPE, [None, None, n_input])\n",
    "# b_lengths = tf.placeholder(TF_ITYPE, [None])\n",
    "# network_dict = tflego.build_multi_encdec_lazydynamic_latentfunc(\n",
    "#     a, a_lengths, enc_n_hiddens, dec_n_hiddens, build_latent_func,\n",
    "#     latent_func_kwargs, y_lengths=b_lengths, rnn_type=rnn_type\n",
    "#     )\n",
    "# encoder_states = network_dict[\"encoder_states\"]\n",
    "# ae = network_dict[\"latent_layer\"]\n",
    "# z = ae[\"z\"]\n",
    "# y = network_dict[\"decoder_output\"]\n",
    "# mask = network_dict[\"mask\"]\n",
    "\n",
    "# y *= tf.expand_dims(mask, -1)  # safety\n",
    "\n",
    "# # Reconstruction loss\n",
    "# loss = tf.reduce_mean(\n",
    "#     tf.reduce_sum(tf.reduce_mean(tf.square(b - y), -1), -1) /\n",
    "#     tf.reduce_sum(mask, 1)\n",
    "#     )  # https://danijar.com/variable-sequence-lengths-in-tensorflow/\n",
    "\n",
    "# optimizer = tf.train.AdamOptimizer(learning_rate=learning_rate).minimize(loss)"
   ]
  },
  {
   "cell_type": "code",
   "execution_count": 16,
   "metadata": {},
   "outputs": [
    {
     "name": "stdout",
     "output_type": "stream",
     "text": [
      "2018-08-24 08:17:18.899246\n",
      "INFO:tensorflow:Restoring parameters from /tmp/data-kamperh/multi_lazydynamic_latent_cae.pretrain.ckpt\n",
      "Epoch 0:\n",
      "INFO:tensorflow:Restoring parameters from /tmp/data-kamperh/multi_lazydynamic_latent_cae.tmp.ckpt\n",
      "15.653 sec, train loss: 0.844737, val loss: [0.32955423859829941, -0.28437316374702887] *\n",
      "Epoch 1:\n",
      "INFO:tensorflow:Restoring parameters from /tmp/data-kamperh/multi_lazydynamic_latent_cae.tmp.ckpt\n",
      "15.634 sec, train loss: 0.774369, val loss: [0.34630249935583612, -0.30393670523802652] *\n",
      "Epoch 2:\n",
      "INFO:tensorflow:Restoring parameters from /tmp/data-kamperh/multi_lazydynamic_latent_cae.tmp.ckpt\n",
      "15.876 sec, train loss: 0.756312, val loss: [0.34600026337375134, -0.30083040698107011]\n",
      "Epoch 3:\n",
      "INFO:tensorflow:Restoring parameters from /tmp/data-kamperh/multi_lazydynamic_latent_cae.tmp.ckpt\n",
      "15.934 sec, train loss: 0.744113, val loss: [0.33857253285235767, -0.28466167055983443]\n",
      "Epoch 4:\n",
      "INFO:tensorflow:Restoring parameters from /tmp/data-kamperh/multi_lazydynamic_latent_cae.tmp.ckpt\n",
      "16.576 sec, train loss: 0.736766, val loss: [0.33058490079876318, -0.27793876320289129]\n",
      "Epoch 5:\n",
      "INFO:tensorflow:Restoring parameters from /tmp/data-kamperh/multi_lazydynamic_latent_cae.tmp.ckpt\n",
      "16.478 sec, train loss: 0.724925, val loss: [0.32801440542515148, -0.27697428692943921]\n",
      "Epoch 6:\n",
      "INFO:tensorflow:Restoring parameters from /tmp/data-kamperh/multi_lazydynamic_latent_cae.tmp.ckpt\n",
      "16.071 sec, train loss: 0.715929, val loss: [0.30945632568925535, -0.25463218937356924]\n",
      "Epoch 7:\n",
      "INFO:tensorflow:Restoring parameters from /tmp/data-kamperh/multi_lazydynamic_latent_cae.tmp.ckpt\n",
      "16.670 sec, train loss: 0.704842, val loss: [0.30634574979084556, -0.25004288452736029]\n",
      "Epoch 8:\n",
      "INFO:tensorflow:Restoring parameters from /tmp/data-kamperh/multi_lazydynamic_latent_cae.tmp.ckpt\n",
      "16.169 sec, train loss: 0.698321, val loss: [0.31460963669157432, -0.26203344666726747]\n",
      "Epoch 9:\n",
      "INFO:tensorflow:Restoring parameters from /tmp/data-kamperh/multi_lazydynamic_latent_cae.tmp.ckpt\n",
      "16.694 sec, train loss: 0.687338, val loss: [0.30297565876956933, -0.25059343222375136]\n",
      "Writing: /tmp/data-kamperh/multi_lazydynamic_latent_cae.tmp.ckpt\n",
      "Training time: 2.696 min\n",
      "2018-08-24 08:20:12.305602\n"
     ]
    }
   ],
   "source": [
    "# Train correspondence autoencoder\n",
    "\n",
    "# train_batch_iterator = PairedSimpleIterator(\n",
    "#     train_x, pair_list, batch_size, True\n",
    "#     )\n",
    "train_batch_iterator = PairedBucketIterator(\n",
    "    train_x, pair_list, batch_size=batch_size, n_buckets=n_buckets, shuffle_every_epoch=True\n",
    "    )\n",
    "\n",
    "val_model_fn = intermediate_model_fn\n",
    "record_dict = training.train_fixed_epochs_external_val(\n",
    "    n_epochs, optimizer, loss, train_batch_iterator,\n",
    "    [a, a_lengths, b, b_lengths], samediff_val, save_model_fn=intermediate_model_fn, save_best_val_model_fn=model_fn,\n",
    "    n_val_interval=n_val_interval, load_model_fn=pretrain_model_fn\n",
    "    )"
   ]
  },
  {
   "cell_type": "code",
   "execution_count": 17,
   "metadata": {},
   "outputs": [
    {
     "name": "stdout",
     "output_type": "stream",
     "text": [
      "INFO:tensorflow:Restoring parameters from /tmp/data-kamperh/multi_lazydynamic_latent_cae.ckpt\n"
     ]
    }
   ],
   "source": [
    "# Embed validation\n",
    "val_batch_iterator = SimpleIterator(\n",
    "    val_x, len(val_x), False\n",
    "    )\n",
    "labels = [val_labels[i] for i in val_batch_iterator.indices]\n",
    "saver = tf.train.Saver()\n",
    "with tf.Session() as session:\n",
    "    saver.restore(session, model_fn)\n",
    "    for batch_x_padded, batch_x_lengths in val_batch_iterator:\n",
    "        np_x = batch_x_padded\n",
    "        np_x_lengths = batch_x_lengths\n",
    "        np_z = session.run(\n",
    "            [z], feed_dict={a: np_x, a_lengths: np_x_lengths}\n",
    "            )[0]\n",
    "        np_y = session.run(\n",
    "            [y], feed_dict={a: np_x, a_lengths: np_x_lengths, b_lengths: np_x_lengths}\n",
    "            )[0]\n",
    "        break  # single batch\n",
    "\n",
    "embed_dict = {}\n",
    "for i, utt_key in enumerate([val_keys[i] for i in val_batch_iterator.indices]):\n",
    "    embed_dict[utt_key] = np_z[i]"
   ]
  },
  {
   "cell_type": "code",
   "execution_count": 18,
   "metadata": {},
   "outputs": [
    {
     "name": "stdout",
     "output_type": "stream",
     "text": [
      "Average precision: 0.3039\n",
      "Precision-recall breakeven: 0.3463\n"
     ]
    }
   ],
   "source": [
    "# Same-different evaluation\n",
    "distances = pdist(np_z, metric=\"cosine\")\n",
    "matches = samediff.generate_matches_array(labels)\n",
    "ap, prb = samediff.average_precision(\n",
    "    distances[matches == True], distances[matches == False]\n",
    "    )\n",
    "\n",
    "print(\"Average precision: {:.4f}\".format(ap))\n",
    "print(\"Precision-recall breakeven: {:.4f}\".format(prb))"
   ]
  },
  {
   "cell_type": "code",
   "execution_count": 19,
   "metadata": {},
   "outputs": [
    {
     "name": "stdout",
     "output_type": "stream",
     "text": [
      "Average precision: 0.3142\n",
      "Precision-recall breakeven: 0.3569\n"
     ]
    }
   ],
   "source": [
    "# Same-different evaluation after normalisation\n",
    "np_z_normalised = (np_z - np_z.mean(axis=0))/np_z.std(axis=0)\n",
    "distances = pdist(np_z_normalised, metric=\"cosine\")\n",
    "matches = samediff.generate_matches_array(labels)\n",
    "ap, prb = samediff.average_precision(\n",
    "    distances[matches == True], distances[matches == False]\n",
    "    )\n",
    "\n",
    "print(\"Average precision: {:.4f}\".format(ap))\n",
    "print(\"Precision-recall breakeven: {:.4f}\".format(prb))"
   ]
  },
  {
   "cell_type": "code",
   "execution_count": 20,
   "metadata": {},
   "outputs": [
    {
     "data": {
      "image/png": "[encoded data removed]",
      "text/plain": [
       "<matplotlib.figure.Figure at 0x7fedde6341d0>"
      ]
     },
     "metadata": {},
     "output_type": "display_data"
    }
   ],
   "source": [
    "# Plot reconstruction\n",
    "plt.figure(figsize=(12, 8))\n",
    "for i in range(5):\n",
    "    plt.subplot(5, 2, 2*i + 1)\n",
    "    if i == 0:\n",
    "        plt.title(\"Input\")\n",
    "    plt.imshow(np_x[i][:np_x_lengths[i]].T)\n",
    "    plt.axis(\"off\")\n",
    "    plt.subplot(5, 2, 2*i + 2)\n",
    "    if i == 0:\n",
    "        plt.title(\"Reconstruction\")\n",
    "    plt.imshow(np_y[i][:np_x_lengths[i]].T)\n",
    "    plt.axis(\"off\")"
   ]
  },
  {
   "cell_type": "code",
   "execution_count": 21,
   "metadata": {},
   "outputs": [
    {
     "data": {
      "image/png": "[encoded data removed]",
      "text/plain": [
       "<matplotlib.figure.Figure at 0x7fedebbd3d50>"
      ]
     },
     "metadata": {},
     "output_type": "display_data"
    }
   ],
   "source": [
    "plotting.plot_raw_embeds(\n",
    "    embed_dict, [\"because\", \"yknow\", \"people\", \"something\", \"anything\", \"education\", \"situation\"],\n",
    "    mvn=False, figsize=(12, 8)\n",
    "    )"
   ]
  },
  {
   "cell_type": "code",
   "execution_count": null,
   "metadata": {},
   "outputs": [],
   "source": []
  }
 ],
 "metadata": {
  "kernelspec": {
   "display_name": "Python 2",
   "language": "python",
   "name": "python2"
  },
  "language_info": {
   "codemirror_mode": {
    "name": "ipython",
    "version": 2
   },
   "file_extension": ".py",
   "mimetype": "text/x-python",
   "name": "python",
   "nbconvert_exporter": "python",
   "pygments_lexer": "ipython2",
   "version": "2.7.12"
  }
 },
 "nbformat": 4,
 "nbformat_minor": 2
}
